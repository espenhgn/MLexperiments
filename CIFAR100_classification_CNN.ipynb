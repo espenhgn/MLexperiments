{
 "cells": [
  {
   "cell_type": "markdown",
   "metadata": {},
   "source": [
    "Proof of principle convolutional network in Keras for categorical classification on CIFAR-100 dataset"
   ]
  },
  {
   "cell_type": "code",
   "execution_count": null,
   "metadata": {},
   "outputs": [],
   "source": [
    "%matplotlib inline"
   ]
  },
  {
   "cell_type": "code",
   "execution_count": null,
   "metadata": {},
   "outputs": [],
   "source": [
    "# module imports\n",
    "import numpy as np\n",
    "import matplotlib.pyplot as plt\n",
    "import tensorflow as tf\n",
    "from tensorflow import keras\n",
    "from tensorflow.keras.regularizers import l2\n",
    "from tensorflow.keras.datasets import cifar100"
   ]
  },
  {
   "cell_type": "code",
   "execution_count": null,
   "metadata": {},
   "outputs": [],
   "source": [
    "# load data\n",
    "(x_train, y_train), (x_test, y_test) = cifar100.load_data()"
   ]
  },
  {
   "cell_type": "code",
   "execution_count": null,
   "metadata": {},
   "outputs": [],
   "source": [
    "# print some shapes\n",
    "x_train.shape, y_train.shape, x_test.shape, y_test.shape"
   ]
  },
  {
   "cell_type": "code",
   "execution_count": null,
   "metadata": {},
   "outputs": [],
   "source": [
    "# number of classes\n",
    "num_classes = np.unique(y_train).size\n",
    "print('number of classes: {}'.format(num_classes))"
   ]
  },
  {
   "cell_type": "code",
   "execution_count": null,
   "metadata": {},
   "outputs": [],
   "source": [
    "# divide test set into validation and test sets of equal size.\n",
    "x_val = x_test[:5000]\n",
    "y_val = y_test[:5000]\n",
    "x_test = x_test[5000:]\n",
    "y_test = y_test[5000:]"
   ]
  },
  {
   "cell_type": "code",
   "execution_count": null,
   "metadata": {},
   "outputs": [],
   "source": [
    "# Convert class vectors to categorical\n",
    "y_train = keras.utils.to_categorical(y_train, num_classes)\n",
    "y_test = keras.utils.to_categorical(y_test, num_classes)\n",
    "y_val = keras.utils.to_categorical(y_val, num_classes)"
   ]
  },
  {
   "cell_type": "code",
   "execution_count": null,
   "metadata": {},
   "outputs": [],
   "source": [
    "# plot data and labels\n",
    "fig, axes = plt.subplots(4, 4, sharex=True, sharey=True, figsize=(12, 12))\n",
    "for i, ax in enumerate(axes.flatten()):\n",
    "    ax.imshow(x_train[i, :, :], vmin=0, vmax=255)\n",
    "    ax.set_title('y={}'.format(np.where(y_train[i]==1.)[0][0]))"
   ]
  },
  {
   "cell_type": "code",
   "execution_count": null,
   "metadata": {},
   "outputs": [],
   "source": [
    "def define_model(input_shape, num_classes, lr=0.001, dr=0.25,\n",
    "                 clear_session=True):\n",
    "    if clear_session:\n",
    "        keras.backend.clear_session()\n",
    "\n",
    "    # define model\n",
    "    model = keras.models.Sequential()\n",
    "\n",
    "    # conv layer 1\n",
    "    model.add(keras.layers.Conv2D(16, (3, 3), \n",
    "                                  padding='same', \n",
    "                                  input_shape=input_shape,\n",
    "                                  activation='relu',\n",
    "                                  kernel_regularizer=l2(),\n",
    "                                  bias_regularizer=l2(),\n",
    "                                 ))\n",
    "\n",
    "    # conv layer 2 + pooling\n",
    "    model.add(keras.layers.Conv2D(32, (3, 3), \n",
    "                                  strides=(2, 2), \n",
    "                                  activation='relu',\n",
    "                                  kernel_regularizer=l2(),\n",
    "                                  bias_regularizer=l2(),\n",
    "                                 ))\n",
    "    model.add(keras.layers.MaxPooling2D(pool_size=(2, 2)))\n",
    "    model.add(keras.layers.Dropout(dr))\n",
    "\n",
    "    # conv layer 3 + pooling\n",
    "    model.add(keras.layers.Conv2D(64, (3, 3), \n",
    "                                  strides=(2, 2), \n",
    "                                  activation='relu',\n",
    "                                  kernel_regularizer=l2(),\n",
    "                                  bias_regularizer=l2(),\n",
    "                                 ))\n",
    "    #model.add(keras.layers.MaxPooling2D(pool_size=(2, 2)))\n",
    "    model.add(keras.layers.Dropout(dr))\n",
    "\n",
    "    # conv layer 4 + pooling\n",
    "    model.add(keras.layers.Conv2D(128, (2, 2), \n",
    "                                  strides=(1, 1), \n",
    "                                  activation='relu',\n",
    "                                  kernel_regularizer=l2(),\n",
    "                                  bias_regularizer=l2(),\n",
    "                                 ))\n",
    "    model.add(keras.layers.MaxPooling2D(pool_size=(2, 2)))\n",
    "    model.add(keras.layers.Dropout(dr))\n",
    "\n",
    "    # flatten\n",
    "    model.add(keras.layers.Flatten())\n",
    "\n",
    "    # dense layer 1\n",
    "    model.add(keras.layers.Dense(128, \n",
    "                                 activation='relu',\n",
    "                                 kernel_regularizer=l2(),\n",
    "                                 bias_regularizer=l2(),\n",
    "                                ))\n",
    "    model.add(keras.layers.Dropout(dr))\n",
    "\n",
    "    \n",
    "    # dense output layer with softmax activation\n",
    "    model.add(keras.layers.Dense(num_classes, \n",
    "                                 activation='softmax'))\n",
    "\n",
    "    # optimizer\n",
    "    opt = keras.optimizers.Adam(lr=lr)\n",
    "\n",
    "    # compile model\n",
    "    model.compile(loss='categorical_crossentropy', optimizer=opt, metrics=['accuracy'])\n",
    "    \n",
    "    # return model\n",
    "    return model"
   ]
  },
  {
   "cell_type": "code",
   "execution_count": null,
   "metadata": {},
   "outputs": [],
   "source": [
    "model = define_model(input_shape=x_train.shape[1:], num_classes=num_classes)\n",
    "\n",
    "# print out info\n",
    "model.summary()"
   ]
  },
  {
   "cell_type": "code",
   "execution_count": null,
   "metadata": {
    "scrolled": false
   },
   "outputs": [],
   "source": [
    "# fit data\n",
    "history = model.fit(x_train, y_train, batch_size=100, epochs=50, \n",
    "                   validation_data=(x_val, y_val))"
   ]
  },
  {
   "cell_type": "code",
   "execution_count": null,
   "metadata": {},
   "outputs": [],
   "source": [
    "fig, axes = plt.subplots(2, 1, sharex=True, figsize=(12, 12))\n",
    "axes[0].plot(history.history['loss'], '-o', label='training loss')\n",
    "axes[0].plot(history.history['val_loss'], '-o', label='validation loss')\n",
    "axes[0].legend()\n",
    "axes[1].plot(history.history['accuracy'], '-o', label='training accuracy')\n",
    "axes[1].plot(history.history['val_accuracy'], '-o', label='validation accuracy')\n",
    "axes[1].legend()\n",
    "axes[1].set_xlabel('epochs')"
   ]
  },
  {
   "cell_type": "code",
   "execution_count": null,
   "metadata": {},
   "outputs": [],
   "source": [
    "# run predictions on some test samples\n",
    "y_pred = model.predict(x_test.astype(float))\n",
    "scores = model.evaluate(x_test, y_test, verbose=0)\n",
    "print('Test loss:', scores[0])\n",
    "print('Test accuracy:', scores[1])"
   ]
  },
  {
   "cell_type": "code",
   "execution_count": null,
   "metadata": {},
   "outputs": [],
   "source": [
    "# compute and plot confusion matrix\n",
    "cf = tf.math.confusion_matrix(np.where(y_test == 1)[1], \n",
    "                              np.argmax(y_pred, axis=-1), \n",
    "                              num_classes=num_classes)\n",
    "cf = np.array(cf)\n",
    "\n",
    "fig, ax = plt.subplots(1, 1, figsize=(12, 12))\n",
    "fig.suptitle('confusion matrix')\n",
    "im = ax.matshow(cf)\n",
    "ax.axis(ax.axis('tight'))\n",
    "cb = plt.colorbar(im)\n",
    "cb.set_label('#')\n",
    "#for i in range(num_classes):\n",
    "#    for j in range(num_classes):\n",
    "#        ax.text(i, j, cf[i, j], fontsize=12, color='r', ha='center', va='center')\n",
    "\n",
    "ax.set_xticks(np.arange(num_classes))\n",
    "ax.set_yticks(np.arange(num_classes))\n",
    "ax.set_xlabel('predicted labels')\n",
    "ax.xaxis.set_label_position('top')\n",
    "ax.set_ylabel('true labels')"
   ]
  },
  {
   "cell_type": "code",
   "execution_count": null,
   "metadata": {},
   "outputs": [],
   "source": [
    "# plot actual vs. predicted labels and their probabilities\n",
    "fig, axes = plt.subplots(4, 4, sharex=True, sharey=True, figsize=(12, 12))\n",
    "for i, ax in enumerate(axes.flatten()):\n",
    "    ax.imshow(x_test[i, :, :], vmin=0, vmax=255)\n",
    "    ax.set_title('$y=${}, '.format(np.where(y_test[i]==1.)[0][0]) +\n",
    "                 '$\\hat{y}=$' + '{} (p={:.3f})'.format(np.where(y_pred[i]==y_pred[i].max())[0][0], \n",
    "                                                       y_pred[i].max()))"
   ]
  },
  {
   "cell_type": "code",
   "execution_count": null,
   "metadata": {},
   "outputs": [],
   "source": []
  }
 ],
 "metadata": {
  "kernelspec": {
   "display_name": "Python 3",
   "language": "python",
   "name": "python3"
  },
  "language_info": {
   "codemirror_mode": {
    "name": "ipython",
    "version": 3
   },
   "file_extension": ".py",
   "mimetype": "text/x-python",
   "name": "python",
   "nbconvert_exporter": "python",
   "pygments_lexer": "ipython3",
   "version": "3.6.7"
  }
 },
 "nbformat": 4,
 "nbformat_minor": 2
}
