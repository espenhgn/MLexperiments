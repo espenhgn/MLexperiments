{
 "cells": [
  {
   "cell_type": "markdown",
   "metadata": {},
   "source": [
    "Proof of concept convolutional neural network trained to predict the nonlinear subthreshold membrane voltage dynamics of a biological neuron modeled using the Hodkin and Huxley (J Physiol. 1952 Aug 28; 117(4): 500–544.\n",
    "doi: https://doi.org/10.1113/jphysiol.1952.sp004764) formalism, to noisy (synaptic) input currents. \n",
    "\n",
    "To generate training/validation data file(s), run the notebook HodkinHuxleyDataGeneration.ipynb first"
   ]
  },
  {
   "cell_type": "code",
   "execution_count": null,
   "metadata": {},
   "outputs": [],
   "source": [
    "%matplotlib inline\n",
    "%load_ext autoreload\n",
    "%autoreload 2"
   ]
  },
  {
   "cell_type": "code",
   "execution_count": null,
   "metadata": {},
   "outputs": [],
   "source": [
    "import numpy as np\n",
    "import matplotlib.pyplot as plt\n",
    "from tensorflow import keras\n",
    "from tensorflow.keras.regularizers import l2\n",
    "from tensorflow.keras.utils import HDF5Matrix"
   ]
  },
  {
   "cell_type": "code",
   "execution_count": null,
   "metadata": {},
   "outputs": [],
   "source": [
    "np.random.seed(1234)"
   ]
  },
  {
   "cell_type": "code",
   "execution_count": null,
   "metadata": {},
   "outputs": [],
   "source": [
    "# number of validation datas\n",
    "n_val = 500\n",
    "\n",
    "# load training/validation data\n",
    "X = HDF5Matrix('HodkinHuxleySubthresholdData.h5', 'X')\n",
    "Y = HDF5Matrix('HodkinHuxleySubthresholdData.h5', 'Y')\n",
    "\n",
    "# test data\n",
    "X_test = HDF5Matrix('HodkinHuxleySubthresholdData.h5', 'X_test')\n",
    "Y_test = HDF5Matrix('HodkinHuxleySubthresholdData.h5', 'Y_test')"
   ]
  },
  {
   "cell_type": "code",
   "execution_count": null,
   "metadata": {},
   "outputs": [],
   "source": [
    "X.shape, Y.shape"
   ]
  },
  {
   "cell_type": "code",
   "execution_count": null,
   "metadata": {},
   "outputs": [],
   "source": [
    "def generate_model(input_shape, lr=0.001, layer_sizes=[2, 6, 16], \n",
    "                  kernel_sizes=[11, 5, 1]):\n",
    "    keras.backend.clear_session()\n",
    "\n",
    "    # Define model\n",
    "    model = keras.models.Sequential()\n",
    "    \n",
    "    # input layer\n",
    "    model.add(keras.layers.InputLayer(input_shape))\n",
    "\n",
    "    # convolutional layers and activation\n",
    "    for ls, ks in zip(layer_sizes, kernel_sizes):\n",
    "        model.add(keras.layers.Conv1D(ls, \n",
    "                                      kernel_size=ks, \n",
    "                                      padding='same',\n",
    "                                      kernel_regularizer=l2(),\n",
    "                                      bias_regularizer=l2(),\n",
    "                                      activation='relu'))\n",
    "\n",
    "    # dense output layer\n",
    "    model.add(keras.layers.TimeDistributed(\n",
    "        keras.layers.Dense(1, activation='linear')))\n",
    "\n",
    "    # optimizer\n",
    "    opt = keras.optimizers.Adam(lr=lr)\n",
    "\n",
    "    # compile model\n",
    "    model.compile(loss='mse', optimizer=opt, metrics=['mse'])\n",
    "\n",
    "    return model"
   ]
  },
  {
   "cell_type": "code",
   "execution_count": null,
   "metadata": {},
   "outputs": [],
   "source": [
    "model = generate_model(input_shape=(None, 1))"
   ]
  },
  {
   "cell_type": "code",
   "execution_count": null,
   "metadata": {},
   "outputs": [],
   "source": [
    "model.summary()"
   ]
  },
  {
   "cell_type": "code",
   "execution_count": null,
   "metadata": {},
   "outputs": [],
   "source": [
    "import pydot\n",
    "from tensorflow.keras.utils import plot_model\n",
    "from IPython.display import SVG\n",
    "from tensorflow.keras.utils import model_to_dot\n",
    "\n",
    "#plot_model(model, to_file='model.png')\n",
    "SVG(model_to_dot(model, show_shapes=True).create(prog='dot', format='svg'))"
   ]
  },
  {
   "cell_type": "code",
   "execution_count": null,
   "metadata": {
    "scrolled": false
   },
   "outputs": [],
   "source": [
    "history = model.fit(X[:-n_val], \n",
    "                    Y[:-n_val], batch_size=100, epochs=100, \n",
    "                    validation_data=(X[-n_val:], Y[-n_val:]))"
   ]
  },
  {
   "cell_type": "code",
   "execution_count": null,
   "metadata": {},
   "outputs": [],
   "source": [
    "plt.figure()\n",
    "plt.semilogy(history.history['loss'], '-o', label='loss')\n",
    "plt.semilogy(history.history['mse'], '-o', label='mse')\n",
    "plt.semilogy(history.history['val_mse'], '-o', label='val_mse')\n",
    "plt.legend()\n",
    "plt.xlabel('epochs')\n",
    "plt.ylabel('loss')\n",
    "plt.title('training/validation loss')"
   ]
  },
  {
   "cell_type": "code",
   "execution_count": null,
   "metadata": {},
   "outputs": [],
   "source": [
    "# visualize predictions on some samples from the training/validation set\n",
    "X_val = X[-n_val:]\n",
    "Y_val = Y[-n_val:]\n",
    "\n",
    "Y_pred = model.predict(X_val)\n",
    "\n",
    "# compare prediction to ground truth\n",
    "fig, axes = plt.subplots(n_val_samples, 2, figsize=(8, 8), \n",
    "                         sharex=True, sharey='col')\n",
    "for i in range(3):\n",
    "    axes[i, 0].plot(X_val[i], label='$x(t)$')\n",
    "    axes[i, 1].plot(Y_val[i], label='$y(t)$')\n",
    "    axes[i, 1].plot(Y_pred[i], label='$\\hat{y}(t)$')\n",
    "    if i == 0:\n",
    "        axes[i, 1].legend()\n",
    "        axes[i, 0].set_title('$x(t)$')\n",
    "        axes[i, 1].set_title('$y(t)$ vs $\\hat{y}(t)$')\n",
    "    axes[i, 0].set_ylabel('I (pA)')\n",
    "    axes[i, 1].set_ylabel('Vm (mV)')\n",
    "axes[i, 0].set_xlabel('$t$ (ms)')\n",
    "axes[i, 1].set_xlabel('$t$ (ms)')"
   ]
  },
  {
   "cell_type": "code",
   "execution_count": null,
   "metadata": {},
   "outputs": [],
   "source": [
    "# test with time series longer than training set time series\n",
    "Y_pred = model.predict(X_test)\n",
    "\n",
    "# compare prediction to ground truth\n",
    "fig, axes = plt.subplots(n_val_samples, 2, figsize=(8, 8), \n",
    "                         sharex=True, sharey='col')\n",
    "for i in range(n_val_samples):\n",
    "    axes[i, 0].plot(X_test[i][2900:3000], label='$x(t)$')\n",
    "    axes[i, 1].plot(Y_test[i][2900:3000], label='$y(t)$')\n",
    "    axes[i, 1].plot(Y_pred[i][2900:3000], label='$\\hat{y}(t)$')\n",
    "    if i == 0:\n",
    "        axes[i, 1].legend()\n",
    "        axes[i, 0].set_title('$x(t)$')\n",
    "        axes[i, 1].set_title('$y(t)$ vs $\\hat{y}(t)$')\n",
    "    axes[i, 0].set_ylabel('I (pA)')\n",
    "    axes[i, 1].set_ylabel('Vm (mV)')\n",
    "axes[i, 0].set_xlabel('$t$ (ms)')\n",
    "axes[i, 1].set_xlabel('$t$ (ms)')"
   ]
  },
  {
   "cell_type": "code",
   "execution_count": null,
   "metadata": {},
   "outputs": [],
   "source": []
  }
 ],
 "metadata": {
  "kernelspec": {
   "display_name": "Python 3",
   "language": "python",
   "name": "python3"
  },
  "language_info": {
   "codemirror_mode": {
    "name": "ipython",
    "version": 3
   },
   "file_extension": ".py",
   "mimetype": "text/x-python",
   "name": "python",
   "nbconvert_exporter": "python",
   "pygments_lexer": "ipython3",
   "version": "3.6.7"
  }
 },
 "nbformat": 4,
 "nbformat_minor": 2
}
